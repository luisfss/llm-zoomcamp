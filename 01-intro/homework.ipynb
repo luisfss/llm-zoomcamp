{
 "cells": [
  {
   "cell_type": "code",
   "execution_count": 1,
   "id": "442740f1-dc5c-45f4-88e6-aa967b609be7",
   "metadata": {},
   "outputs": [],
   "source": [
    "import openai"
   ]
  },
  {
   "cell_type": "code",
   "execution_count": 2,
   "id": "06899e26-287d-4b51-8329-1235b02ac88b",
   "metadata": {},
   "outputs": [],
   "source": [
    "from openai import OpenAI"
   ]
  },
  {
   "cell_type": "code",
   "execution_count": 3,
   "id": "384e91d8-5451-4398-85c0-eb09c504c275",
   "metadata": {},
   "outputs": [],
   "source": [
    "client = OpenAI()"
   ]
  },
  {
   "cell_type": "code",
   "execution_count": 4,
   "id": "c3826b58-9b87-4b49-aa3c-40536862ba4c",
   "metadata": {},
   "outputs": [],
   "source": [
    "import os"
   ]
  },
  {
   "cell_type": "code",
   "execution_count": 10,
   "id": "bb15c390-b5f7-4c42-ba7b-c8099e8a36c7",
   "metadata": {},
   "outputs": [],
   "source": [
    "response = client.chat.completions.create(\n",
    "    model='gpt-4o',\n",
    "    messages=[{\"role\": \"user\", \"content\": \"is it too late to join the course?\"}]\n",
    ")"
   ]
  },
  {
   "cell_type": "code",
   "execution_count": 12,
   "id": "fc77ae4b-79f0-47c7-9d61-0afb72117fc9",
   "metadata": {},
   "outputs": [
    {
     "data": {
      "text/plain": [
       "\"To determine whether it's too late to join a course, you'll need to consider several factors:\\n\\n1. **Enrollment Deadline:** Check if the course has a specific enrollment deadline. Many courses have a cutoff date for registration.\\n\\n2. **Course Start Date:** If the course has already started, ascertain how far along it is. Some programs allow late enrollment past the start date, while others do not.\\n\\n3. **Course Type:** Online and self-paced courses often have more flexible enrollment options compared to in-person or scheduled online courses.\\n\\n4. **Instructor/Institution Policy:** Contact the instructor or institution offering the course to inquire about their policies on late enrollment.\\n\\n5. **Catch-Up Feasibility:** Evaluate whether you have the ability to catch up on any missed material or lectures if you join the course late.\\n\\n6. **Waitlist Possibility:** If the course is full, see if there’s an option to join a waitlist in case spots open up.\\n\\nReview these factors based on the specific course you are interested in, and reach out to the relevant administrators for the most accurate information.\""
      ]
     },
     "execution_count": 12,
     "metadata": {},
     "output_type": "execute_result"
    }
   ],
   "source": [
    "response.choices[0].message.content"
   ]
  },
  {
   "cell_type": "code",
   "execution_count": null,
   "id": "b4a511e2-f2b8-48f0-900a-a58b960a01f9",
   "metadata": {},
   "outputs": [],
   "source": []
  }
 ],
 "metadata": {
  "kernelspec": {
   "display_name": "Python 3 (ipykernel)",
   "language": "python",
   "name": "python3"
  },
  "language_info": {
   "codemirror_mode": {
    "name": "ipython",
    "version": 3
   },
   "file_extension": ".py",
   "mimetype": "text/x-python",
   "name": "python",
   "nbconvert_exporter": "python",
   "pygments_lexer": "ipython3",
   "version": "3.12.1"
  }
 },
 "nbformat": 4,
 "nbformat_minor": 5
}
